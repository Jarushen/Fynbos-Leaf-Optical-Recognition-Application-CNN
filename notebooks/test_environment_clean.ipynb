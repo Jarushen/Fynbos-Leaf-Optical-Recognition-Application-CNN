{
 "cells": [
  {
   "cell_type": "markdown",
   "id": "ed75f540",
   "metadata": {},
   "source": [
    "# Import Required Libraries\n",
    "Import any necessary libraries for the notebook, such as sys or unittest if needed."
   ]
  },
  {
   "cell_type": "code",
   "execution_count": null,
   "id": "28ccc1c2",
   "metadata": {},
   "outputs": [],
   "source": [
    "# Import Required Libraries\n",
    "import sys\n",
    "import unittest"
   ]
  },
  {
   "cell_type": "markdown",
   "id": "2c47551c",
   "metadata": {},
   "source": [
    "# Define a Yes/No Function\n",
    "Write a function that takes user input or a parameter and returns 'yes' or 'no' based on the input."
   ]
  },
  {
   "cell_type": "code",
   "execution_count": null,
   "id": "0783ed88",
   "metadata": {},
   "outputs": [],
   "source": [
    "def yes_no(input_value):\n",
    "    \"\"\"\n",
    "    Returns 'yes' if input_value is truthy, otherwise 'no'.\n",
    "    \"\"\"\n",
    "    return 'yes' if input_value else 'no'"
   ]
  },
  {
   "cell_type": "markdown",
   "id": "085e6b52",
   "metadata": {},
   "source": [
    "# Test the Yes/No Function\n",
    "Create unit tests to verify the correctness of the yes/no function using Python's unittest framework."
   ]
  },
  {
   "cell_type": "code",
   "execution_count": null,
   "id": "2c4abf85",
   "metadata": {},
   "outputs": [],
   "source": [
    "class TestYesNo(unittest.TestCase):\n",
    "    def test_yes(self):\n",
    "        self.assertEqual(yes_no(True), 'yes')\n",
    "        self.assertEqual(yes_no(1), 'yes')\n",
    "        self.assertEqual(yes_no('non-empty'), 'yes')\n",
    "    def test_no(self):\n",
    "        self.assertEqual(yes_no(False), 'no')\n",
    "        self.assertEqual(yes_no(0), 'no')\n",
    "        self.assertEqual(yes_no(''), 'no')\n",
    "\n",
    "# Run the tests\n",
    "unittest.TextTestRunner().run(unittest.defaultTestLoader.loadTestsFromTestCase(TestYesNo))"
   ]
  },
  {
   "cell_type": "markdown",
   "id": "1b8cdddb",
   "metadata": {},
   "source": [
    "# Display Output in Notebook\n",
    "Demonstrate the function by calling it with sample inputs and displaying the results in the notebook."
   ]
  },
  {
   "cell_type": "code",
   "execution_count": null,
   "id": "0275e226",
   "metadata": {},
   "outputs": [],
   "source": [
    "print('yes_no(True):', yes_no(True))\n",
    "print('yes_no(False):', yes_no(False))\n",
    "print('yes_no(123):', yes_no(123))\n",
    "print('yes_no(0):', yes_no(0))\n",
    "print('yes_no(\\'hello\\'):', yes_no('hello'))\n",
    "print('yes_no(\\'\\'):', yes_no(''))"
   ]
  }
 ],
 "metadata": {
  "language_info": {
   "name": "python"
  }
 },
 "nbformat": 4,
 "nbformat_minor": 5
}
